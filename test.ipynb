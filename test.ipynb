{
 "cells": [
  {
   "cell_type": "code",
   "execution_count": 1,
   "metadata": {},
   "outputs": [],
   "source": [
    "import pandas as pd\n",
    "import gspread\n",
    "import json\n",
    "from google.oauth2.service_account import Credentials\n",
    "\n",
    "scopes=[\n",
    "    \"https://www.googleapis.com/auth/spreadsheets\"\n",
    "]\n",
    "creds=Credentials.from_service_account_file(\"creds.json\",scopes=scopes)\n",
    "client=gspread.authorize(creds)\n",
    "\n",
    "sheet_id=\"1yCA-LKtvmyDJVi1Tnxeo-uLVUoYSwKidJgUYntsPNls\"\n",
    "\n",
    "workbook=client.open_by_key(sheet_id)"
   ]
  },
  {
   "cell_type": "code",
   "execution_count": 2,
   "metadata": {},
   "outputs": [],
   "source": [
    "sheet = workbook.sheet1"
   ]
  },
  {
   "cell_type": "code",
   "execution_count": 3,
   "metadata": {},
   "outputs": [],
   "source": [
    "data=sheet.get_all_values()\n",
    "headers=data.pop(0)\n",
    "df=pd.DataFrame(data,columns=headers)"
   ]
  },
  {
   "cell_type": "code",
   "execution_count": 4,
   "metadata": {},
   "outputs": [
    {
     "data": {
      "text/html": [
       "<div>\n",
       "<style scoped>\n",
       "    .dataframe tbody tr th:only-of-type {\n",
       "        vertical-align: middle;\n",
       "    }\n",
       "\n",
       "    .dataframe tbody tr th {\n",
       "        vertical-align: top;\n",
       "    }\n",
       "\n",
       "    .dataframe thead th {\n",
       "        text-align: right;\n",
       "    }\n",
       "</style>\n",
       "<table border=\"1\" class=\"dataframe\">\n",
       "  <thead>\n",
       "    <tr style=\"text-align: right;\">\n",
       "      <th></th>\n",
       "      <th>URL</th>\n",
       "      <th>Company Name</th>\n",
       "      <th>City</th>\n",
       "      <th>State</th>\n",
       "      <th>Industry</th>\n",
       "    </tr>\n",
       "  </thead>\n",
       "  <tbody>\n",
       "    <tr>\n",
       "      <th>0</th>\n",
       "      <td></td>\n",
       "      <td>\"Oceans Cargo\"</td>\n",
       "      <td>Pensacola</td>\n",
       "      <td>FL</td>\n",
       "      <td>Art</td>\n",
       "    </tr>\n",
       "    <tr>\n",
       "      <th>1</th>\n",
       "      <td>http://Rtist.com</td>\n",
       "      <td>[@rtist]</td>\n",
       "      <td>San Francisco</td>\n",
       "      <td>CA</td>\n",
       "      <td>#N/A</td>\n",
       "    </tr>\n",
       "    <tr>\n",
       "      <th>2</th>\n",
       "      <td>http://abh.com</td>\n",
       "      <td>Advanced BioHealing Inc.</td>\n",
       "      <td>Westport</td>\n",
       "      <td>MA</td>\n",
       "      <td>Biotechnology</td>\n",
       "    </tr>\n",
       "    <tr>\n",
       "      <th>3</th>\n",
       "      <td>http://www.autoloansforeverydriver.com</td>\n",
       "      <td>AutoloansForEveryDriver</td>\n",
       "      <td>Anchorage</td>\n",
       "      <td>AK</td>\n",
       "      <td>Finance</td>\n",
       "    </tr>\n",
       "    <tr>\n",
       "      <th>4</th>\n",
       "      <td>http://avazu.com</td>\n",
       "      <td>Avazu Europe</td>\n",
       "      <td>Los Angeles</td>\n",
       "      <td>CA</td>\n",
       "      <td>Advertising Networks</td>\n",
       "    </tr>\n",
       "    <tr>\n",
       "      <th>...</th>\n",
       "      <td>...</td>\n",
       "      <td>...</td>\n",
       "      <td>...</td>\n",
       "      <td>...</td>\n",
       "      <td>...</td>\n",
       "    </tr>\n",
       "    <tr>\n",
       "      <th>79070</th>\n",
       "      <td>http://www.parkeddomain.com</td>\n",
       "      <td>Zzz</td>\n",
       "      <td>Palo Alto</td>\n",
       "      <td>CA</td>\n",
       "      <td>Social Media</td>\n",
       "    </tr>\n",
       "    <tr>\n",
       "      <th>79071</th>\n",
       "      <td>http://plusn.com</td>\n",
       "      <td>#NAME?</td>\n",
       "      <td>New York</td>\n",
       "      <td>NY</td>\n",
       "      <td>Software</td>\n",
       "    </tr>\n",
       "    <tr>\n",
       "      <th>79072</th>\n",
       "      <td>http://plyknits.com</td>\n",
       "      <td>#NAME?</td>\n",
       "      <td>New York</td>\n",
       "      <td>NY</td>\n",
       "      <td>Sports</td>\n",
       "    </tr>\n",
       "    <tr>\n",
       "      <th>79073</th>\n",
       "      <td>https://thatsanism.com</td>\n",
       "      <td>#NAME?</td>\n",
       "      <td>Los Angeles</td>\n",
       "      <td>CA</td>\n",
       "      <td>Social Media</td>\n",
       "    </tr>\n",
       "    <tr>\n",
       "      <th>79074</th>\n",
       "      <td>http://www.swappow.com</td>\n",
       "      <td>#NAME?</td>\n",
       "      <td>Phoenix</td>\n",
       "      <td>AZ</td>\n",
       "      <td>Mobile Commerce</td>\n",
       "    </tr>\n",
       "  </tbody>\n",
       "</table>\n",
       "<p>79075 rows × 5 columns</p>\n",
       "</div>"
      ],
      "text/plain": [
       "                                          URL                Company Name  \\\n",
       "0                                                       \"Oceans Cargo\"      \n",
       "1                            http://Rtist.com                    [@rtist]   \n",
       "2                              http://abh.com   Advanced BioHealing Inc.    \n",
       "3      http://www.autoloansforeverydriver.com     AutoloansForEveryDriver   \n",
       "4                            http://avazu.com                Avazu Europe   \n",
       "...                                       ...                         ...   \n",
       "79070             http://www.parkeddomain.com                         Zzz   \n",
       "79071                        http://plusn.com                      #NAME?   \n",
       "79072                     http://plyknits.com                      #NAME?   \n",
       "79073                  https://thatsanism.com                      #NAME?   \n",
       "79074                  http://www.swappow.com                      #NAME?   \n",
       "\n",
       "                City State              Industry  \n",
       "0          Pensacola    FL                   Art  \n",
       "1      San Francisco    CA                  #N/A  \n",
       "2           Westport    MA         Biotechnology  \n",
       "3          Anchorage    AK               Finance  \n",
       "4        Los Angeles    CA  Advertising Networks  \n",
       "...              ...   ...                   ...  \n",
       "79070      Palo Alto    CA          Social Media  \n",
       "79071       New York    NY              Software  \n",
       "79072       New York    NY                Sports  \n",
       "79073    Los Angeles    CA          Social Media  \n",
       "79074        Phoenix    AZ       Mobile Commerce  \n",
       "\n",
       "[79075 rows x 5 columns]"
      ]
     },
     "execution_count": 4,
     "metadata": {},
     "output_type": "execute_result"
    }
   ],
   "source": [
    "df"
   ]
  },
  {
   "cell_type": "code",
   "execution_count": 5,
   "metadata": {},
   "outputs": [
    {
     "data": {
      "text/plain": [
       "<bound method DataFrame.info of                                           URL                Company Name  \\\n",
       "0                                                       \"Oceans Cargo\"      \n",
       "1                            http://Rtist.com                    [@rtist]   \n",
       "2                              http://abh.com   Advanced BioHealing Inc.    \n",
       "3      http://www.autoloansforeverydriver.com     AutoloansForEveryDriver   \n",
       "4                            http://avazu.com                Avazu Europe   \n",
       "...                                       ...                         ...   \n",
       "79070             http://www.parkeddomain.com                         Zzz   \n",
       "79071                        http://plusn.com                      #NAME?   \n",
       "79072                     http://plyknits.com                      #NAME?   \n",
       "79073                  https://thatsanism.com                      #NAME?   \n",
       "79074                  http://www.swappow.com                      #NAME?   \n",
       "\n",
       "                City State              Industry  \n",
       "0          Pensacola    FL                   Art  \n",
       "1      San Francisco    CA                  #N/A  \n",
       "2           Westport    MA         Biotechnology  \n",
       "3          Anchorage    AK               Finance  \n",
       "4        Los Angeles    CA  Advertising Networks  \n",
       "...              ...   ...                   ...  \n",
       "79070      Palo Alto    CA          Social Media  \n",
       "79071       New York    NY              Software  \n",
       "79072       New York    NY                Sports  \n",
       "79073    Los Angeles    CA          Social Media  \n",
       "79074        Phoenix    AZ       Mobile Commerce  \n",
       "\n",
       "[79075 rows x 5 columns]>"
      ]
     },
     "execution_count": 5,
     "metadata": {},
     "output_type": "execute_result"
    }
   ],
   "source": [
    "df.info"
   ]
  },
  {
   "cell_type": "code",
   "execution_count": 6,
   "metadata": {},
   "outputs": [],
   "source": [
    "industry=df[\"Industry\"].drop_duplicates()\n"
   ]
  },
  {
   "cell_type": "code",
   "execution_count": 7,
   "metadata": {},
   "outputs": [
    {
     "data": {
      "text/plain": [
       "0                         Art\n",
       "1                        #N/A\n",
       "2               Biotechnology\n",
       "3                     Finance\n",
       "4        Advertising Networks\n",
       "                 ...         \n",
       "77511       Computer Networks\n",
       "77990                    Yoga\n",
       "78087          Club Promotion\n",
       "78412                     Sex\n",
       "78805      Labor Optimization\n",
       "Name: Industry, Length: 1116, dtype: object"
      ]
     },
     "execution_count": 7,
     "metadata": {},
     "output_type": "execute_result"
    }
   ],
   "source": [
    "industry"
   ]
  },
  {
   "cell_type": "code",
   "execution_count": null,
   "metadata": {},
   "outputs": [],
   "source": []
  },
  {
   "cell_type": "code",
   "execution_count": 21,
   "metadata": {},
   "outputs": [
    {
     "data": {
      "text/plain": [
       "54899       #N/A\n",
       "26520       #N/A\n",
       "26521       #N/A\n",
       "26522       #N/A\n",
       "26533       #N/A\n",
       "          ...   \n",
       "25215     iPhone\n",
       "60746    mHealth\n",
       "400      mHealth\n",
       "49827    mHealth\n",
       "32178    mHealth\n",
       "Name: Industry, Length: 79075, dtype: object"
      ]
     },
     "execution_count": 21,
     "metadata": {},
     "output_type": "execute_result"
    }
   ],
   "source": [
    "df['Industry'].sort_values()"
   ]
  },
  {
   "cell_type": "code",
   "execution_count": 22,
   "metadata": {},
   "outputs": [
    {
     "data": {
      "text/plain": [
       "URL                                                     Company Name             City           State  Industry           \n",
       "http://kiva.org                                         Kiva Microfunds          San Francisco  CA     Nonprofits             5\n",
       "https://www.dataxu.com/                                 DataXu                   Boston         MA     SaaS                   4\n",
       "https://app.hedgeye.com/insights                        Hedgeye Risk Management  Stamford       CT     Market Research        3\n",
       "http://www.cambridgeselect.com                          Cambridge Select         Boston         MA     E-Commerce             3\n",
       "http://www.crowdsource.com                              CrowdSource              St. Louis      MO     SaaS                   3\n",
       "                                                                                                                             ..\n",
       "http://www.AdBasis.com                                  AdBasis                  Chicago        IL     Digital Media          1\n",
       "http://www.AcuteCars.com                                Acute Cars               Phoenix        AZ     Mobile                 1\n",
       "http://www.ActivBeacon.com                              zeezao                   Los Angeles    CA     Mobile                 1\n",
       "http://www.ActionableAnalytics.biz                      Actionable Analytics     Houston        TX     Enterprise Software    1\n",
       "www.whoweuse.net |  Get the app: http://bit.ly/1meONd2  WhoWeUse                 New York       NY     Mobile                 1\n",
       "Name: count, Length: 78767, dtype: int64"
      ]
     },
     "execution_count": 22,
     "metadata": {},
     "output_type": "execute_result"
    }
   ],
   "source": [
    "df.value_counts()"
   ]
  },
  {
   "cell_type": "code",
   "execution_count": 25,
   "metadata": {},
   "outputs": [
    {
     "data": {
      "text/plain": [
       "25779"
      ]
     },
     "execution_count": 25,
     "metadata": {},
     "output_type": "execute_result"
    }
   ],
   "source": [
    "cafilter=df[\"State\"]==\"CA\"\n",
    "df[cafilter].value_counts().size"
   ]
  },
  {
   "cell_type": "code",
   "execution_count": 28,
   "metadata": {},
   "outputs": [
    {
     "data": {
      "text/plain": [
       "np.int64(79075)"
      ]
     },
     "execution_count": 28,
     "metadata": {},
     "output_type": "execute_result"
    }
   ],
   "source": [
    "df['State'].value_counts().sum()"
   ]
  },
  {
   "cell_type": "code",
   "execution_count": 29,
   "metadata": {},
   "outputs": [
    {
     "data": {
      "text/plain": [
       "np.int64(395375)"
      ]
     },
     "execution_count": 29,
     "metadata": {},
     "output_type": "execute_result"
    }
   ],
   "source": [
    "df.notna().sum().sum()"
   ]
  },
  {
   "cell_type": "code",
   "execution_count": 34,
   "metadata": {},
   "outputs": [
    {
     "data": {
      "text/plain": [
       "np.int64(395375)"
      ]
     },
     "execution_count": 34,
     "metadata": {},
     "output_type": "execute_result"
    }
   ],
   "source": [
    "valid_cell_count=df.count().sum().sum()\n"
   ]
  },
  {
   "cell_type": "code",
   "execution_count": 39,
   "metadata": {},
   "outputs": [
    {
     "data": {
      "text/plain": [
       "State\n",
       "COLOMBIA          1\n",
       "Missouri          1\n",
       "East Coast        1\n",
       "GEORGIA           1\n",
       "Alabama           1\n",
       "              ...  \n",
       "IL             2756\n",
       "FL             3036\n",
       "MA             4164\n",
       "NY            10883\n",
       "CA            25891\n",
       "Name: count, Length: 64, dtype: int64"
      ]
     },
     "execution_count": 39,
     "metadata": {},
     "output_type": "execute_result"
    }
   ],
   "source": [
    "sorted_by_state=df['State'].value_counts().sort_values()\n",
    "sorted_by_state"
   ]
  },
  {
   "cell_type": "code",
   "execution_count": 40,
   "metadata": {},
   "outputs": [],
   "source": [
    "all_industries=df['Industry'].value_counts().sort_values()"
   ]
  },
  {
   "cell_type": "code",
   "execution_count": 41,
   "metadata": {},
   "outputs": [
    {
     "data": {
      "text/plain": [
       "Industry\n",
       "Labor Optimization          1\n",
       "Genomics                    1\n",
       "Mobile Consumer             1\n",
       "Enterprise Purchasing       1\n",
       "Merchants                   1\n",
       "                         ... \n",
       "SaaS                     3134\n",
       "Social Media             3897\n",
       "E-Commerce               4342\n",
       "#N/A                     5949\n",
       "Mobile                   9464\n",
       "Name: count, Length: 1116, dtype: int64"
      ]
     },
     "execution_count": 41,
     "metadata": {},
     "output_type": "execute_result"
    }
   ],
   "source": [
    "all_industries"
   ]
  },
  {
   "cell_type": "code",
   "execution_count": null,
   "metadata": {},
   "outputs": [],
   "source": []
  }
 ],
 "metadata": {
  "kernelspec": {
   "display_name": "sheets",
   "language": "python",
   "name": "python3"
  },
  "language_info": {
   "codemirror_mode": {
    "name": "ipython",
    "version": 3
   },
   "file_extension": ".py",
   "mimetype": "text/x-python",
   "name": "python",
   "nbconvert_exporter": "python",
   "pygments_lexer": "ipython3",
   "version": "3.13.1"
  }
 },
 "nbformat": 4,
 "nbformat_minor": 2
}
